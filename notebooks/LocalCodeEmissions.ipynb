{
 "cells": [
  {
   "cell_type": "markdown",
   "id": "8cb922e4-fcc9-4289-b647-91c3d7d77ab6",
   "metadata": {},
   "source": [
    "# Carbon emissions of locally executed software code\n",
    "\n",
    "The Python package CodeCarbon is designed to measure the carbon footprint of executing code on a __local__ device. Check out the [documentation](https://mlco2.github.io/codecarbon/) for more details.\n",
    "\n",
    "### First steps with CodeCarbon\n",
    "Let's start with installing the package:"
   ]
  },
  {
   "cell_type": "code",
   "execution_count": null,
   "id": "ffa9272b-3999-49fe-a550-d0d6bb2b8a0a",
   "metadata": {},
   "outputs": [],
   "source": [
    "!pip install codecarbon"
   ]
  },
  {
   "cell_type": "markdown",
   "id": "ea0c0c95-7780-4932-bd3f-6b524651e37a",
   "metadata": {},
   "source": [
    "Import the EmissionsTracker class from the codecarbon package:"
   ]
  },
  {
   "cell_type": "code",
   "execution_count": null,
   "id": "9edf42c0-307b-4f07-95a3-36a53ad510b2",
   "metadata": {},
   "outputs": [],
   "source": [
    "from codecarbon import EmissionsTracker"
   ]
  },
  {
   "cell_type": "markdown",
   "id": "573f13bd-96ca-4f81-a595-a385e380ddad",
   "metadata": {},
   "source": [
    "Start the tracker:"
   ]
  },
  {
   "cell_type": "code",
   "execution_count": null,
   "id": "a7d979d9-8875-42d9-8fe7-2f9777ff5075",
   "metadata": {},
   "outputs": [],
   "source": [
    "tracker = EmissionsTracker() \n",
    "tracker.start()"
   ]
  },
  {
   "cell_type": "markdown",
   "id": "552adab1-a8f8-4aca-a20b-d4cf219cc448",
   "metadata": {},
   "source": [
    "Implement a computationally intensive code such as a loop or recursion here:"
   ]
  },
  {
   "cell_type": "code",
   "execution_count": null,
   "id": "b940fd78-04b2-4b53-bddf-02d1a95ca1b8",
   "metadata": {},
   "outputs": [],
   "source": [
    "# Your compute-intensive code goes here    \n",
    "\n",
    "def factorial(n):\n",
    "    if n == 0:\n",
    "        return 1\n",
    "    else:\n",
    "        return n * factorial(n-1)\n",
    "\n",
    "result = factorial(1000)"
   ]
  },
  {
   "cell_type": "markdown",
   "id": "f5c3895b-e21d-434e-8769-7a4ba52b8223",
   "metadata": {},
   "source": [
    "Plot the emissions:"
   ]
  },
  {
   "cell_type": "code",
   "execution_count": null,
   "id": "23b8672f-8bda-4371-9b45-c346b68a3ba9",
   "metadata": {},
   "outputs": [],
   "source": [
    "emissions = tracker.stop()\n",
    "print(f\"{emissions * 1_000} gCO2eq\")"
   ]
  },
  {
   "cell_type": "markdown",
   "id": "e5f37a55-bcaa-40d5-9db8-31ab803e0416",
   "metadata": {},
   "source": [
    "### Further experiments\n",
    "\n",
    "1. Run the same code on different devices, for example on the one of the person sitting next to you, and compare the results."
   ]
  },
  {
   "cell_type": "markdown",
   "id": "951ebee6-c7f8-437b-9c73-eee709d2bbc0",
   "metadata": {},
   "source": [
    "2. Change the geolocation used by CodeCarbon and observe the impact on the estimated emissions."
   ]
  },
  {
   "cell_type": "code",
   "execution_count": null,
   "id": "283f3e68-9501-4711-96e4-9580c90ecae5",
   "metadata": {},
   "outputs": [],
   "source": [
    "# your code"
   ]
  },
  {
   "cell_type": "markdown",
   "id": "db610d36-17d5-4940-97df-6e0acd8ef6ce",
   "metadata": {},
   "source": [
    "3. Compare the a non-optimized code snippet with its optimized version."
   ]
  },
  {
   "cell_type": "code",
   "execution_count": null,
   "id": "e37bf205-d4b3-456c-8a83-be0c94b128aa",
   "metadata": {},
   "outputs": [],
   "source": [
    "# your code"
   ]
  }
 ],
 "metadata": {
  "kernelspec": {
   "display_name": "Python 3 (ipykernel)",
   "language": "python",
   "name": "python3"
  },
  "language_info": {
   "codemirror_mode": {
    "name": "ipython",
    "version": 3
   },
   "file_extension": ".py",
   "mimetype": "text/x-python",
   "name": "python",
   "nbconvert_exporter": "python",
   "pygments_lexer": "ipython3",
   "version": "3.11.9"
  }
 },
 "nbformat": 4,
 "nbformat_minor": 5
}
